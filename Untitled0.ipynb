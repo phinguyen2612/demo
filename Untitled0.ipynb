{
  "nbformat": 4,
  "nbformat_minor": 0,
  "metadata": {
    "colab": {
      "provenance": [],
      "authorship_tag": "ABX9TyMYuoFUZf7MFqN8LtDgQG2V",
      "include_colab_link": true
    },
    "kernelspec": {
      "name": "python3",
      "display_name": "Python 3"
    },
    "language_info": {
      "name": "python"
    }
  },
  "cells": [
    {
      "cell_type": "markdown",
      "metadata": {
        "id": "view-in-github",
        "colab_type": "text"
      },
      "source": [
        "<a href=\"https://colab.research.google.com/github/phinguyen2612/demo/blob/main/Untitled0.ipynb\" target=\"_parent\"><img src=\"https://colab.research.google.com/assets/colab-badge.svg\" alt=\"Open In Colab\"/></a>"
      ]
    },
    {
      "cell_type": "code",
      "execution_count": 9,
      "metadata": {
        "colab": {
          "base_uri": "https://localhost:8080/"
        },
        "id": "OGVyg04aImd5",
        "outputId": "a688ae8a-09fc-476e-9131-647427b35806"
      },
      "outputs": [
        {
          "output_type": "stream",
          "name": "stdout",
          "text": [
            "File weather_data.csv đã được tạo!\n",
            "Dữ liệu đã tải về từ file CSV:\n",
            "         Date  Temperature  Humidity\n",
            "0  2023-01-01           27        88\n",
            "1  2023-01-02           23        53\n",
            "2  2023-01-03           30        72\n",
            "3  2023-01-04           21        71\n",
            "4  2023-01-05           23        96\n",
            "5  2023-01-06           31        69\n",
            "6  2023-01-07           34        60\n",
            "7  2023-01-08           27        62\n",
            "8  2023-01-09           34        85\n",
            "9  2023-01-10           29        54\n",
            "🚀 Bắt đầu quá trình đẩy file lên GitHub!\n",
            "✅ File đã được đẩy lên GitHub thành công!\n"
          ]
        }
      ],
      "source": [
        "# Import các thư viện cần thiết\n",
        "import pandas as pd\n",
        "import numpy as np\n",
        "import os\n",
        "\n",
        "# Giả lập dữ liệu và lưu vào CSV\n",
        "data = {\n",
        "    \"Date\": pd.date_range(start=\"2023-01-01\", periods=10, freq=\"D\"),\n",
        "    \"Temperature\": np.random.randint(20, 35, size=10),\n",
        "    \"Humidity\": np.random.randint(50, 100, size=10)\n",
        "}\n",
        "df = pd.DataFrame(data)\n",
        "df.to_csv(\"weather_data.csv\", index=False)\n",
        "print(\"File weather_data.csv đã được tạo!\")\n",
        "\n",
        "# Đọc file CSV\n",
        "df_loaded = pd.read_csv(\"weather_data.csv\")\n",
        "print(\"Dữ liệu đã tải về từ file CSV:\")\n",
        "print(df_loaded)\n",
        "\n",
        "# Cấu hình Git và đẩy file lên GitHub từ Google Colab\n",
        "print(\"🚀 Bắt đầu quá trình đẩy file lên GitHub!\")\n",
        "\n",
        "# Cấu hình Git\n",
        "os.system(\"git config --global user.name 'phinguyen2612'\")\n",
        "os.system(\"git config --global user.email 'phindce181456@fpt.edu.vn'\")\n",
        "\n",
        "# Xóa Git repo cũ và khởi tạo lại (nếu cần)\n",
        "os.system(\"rm -rf .git\")\n",
        "os.system(\"git init\")\n",
        "\n",
        "# Thêm remote repository với Personal Access Token (PAT)\n",
        "GITHUB_TOKEN = \"YOUR_GITHUB_TOKEN\"\n",
        "REPO_URL = f\"https://e01a0e8c8c42e00d4396197da2673fc94957723a@github.com/phinguyen2612/demo.git\"\n",
        "os.system(f\"git remote add origin {REPO_URL}\")\n",
        "\n",
        "# Thêm file vào Git\n",
        "os.system(\"git add weather_data.csv\")\n",
        "os.system(\"git commit -m 'Thêm file dữ liệu thời tiết từ Google Colab'\")\n",
        "\n",
        "# Đẩy lên GitHub\n",
        "os.system(\"git branch -M main\")\n",
        "os.system(\"git push -u origin main\")\n",
        "\n",
        "print(\"✅ File đã được đẩy lên GitHub thành công!\")\n"
      ]
    },
    {
      "cell_type": "code",
      "source": [
        "!git push origin main\n",
        "\n",
        "\n"
      ],
      "metadata": {
        "colab": {
          "base_uri": "https://localhost:8080/"
        },
        "id": "1XOcIYb1Jy0h",
        "outputId": "047b39f5-2694-46ed-dbca-f08f79eeecf3"
      },
      "execution_count": 5,
      "outputs": [
        {
          "output_type": "stream",
          "name": "stdout",
          "text": [
            "fatal: could not read Username for 'https://github.com': No such device or address\n"
          ]
        }
      ]
    }
  ]
}